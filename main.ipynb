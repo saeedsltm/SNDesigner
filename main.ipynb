{
 "cells": [
  {
   "cell_type": "code",
   "execution_count": null,
   "metadata": {},
   "outputs": [],
   "source": [
    "# import required libraries\n"
   ]
  },
  {
   "cell_type": "code",
   "execution_count": null,
   "metadata": {},
   "outputs": [],
   "source": [
    "# define main class\n",
    "class main():\n",
    "    def __init__(self):\n",
    "        pass\n",
    "\n",
    "    def readVelocityFile(self):\n",
    "        pass\n",
    "\n",
    "    def readStationFile(self):\n",
    "        pass\n",
    "\n",
    "    def readEventFile(self):\n",
    "        pass\n",
    "\n",
    "    def generateSynthEarthquake(self):\n",
    "        pass\n",
    "\n",
    "    def runPSO(self):\n",
    "        pass\n",
    "\n",
    "    def plotResults(self):\n",
    "        pass"
   ]
  }
 ],
 "metadata": {
  "language_info": {
   "name": "python"
  },
  "orig_nbformat": 4
 },
 "nbformat": 4,
 "nbformat_minor": 2
}
